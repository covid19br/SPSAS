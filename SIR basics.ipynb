{
 "cells": [
  {
   "cell_type": "markdown",
   "metadata": {},
   "source": [
    "# SIR Model\n",
    "\n",
    "![Source: Wikipedia](Diagram_of_SIR_epidemic_model_states_and_transition_rates.svg)\n",
    "\n",
    "## Transition rates \n",
    "\n",
    "### Suscetibles to Infected\n",
    "Assuming a well-mixed population and a constant infection rate $\\beta$:\n",
    "\n",
    "$ \\frac{1}{N} \\; \\frac{dS}{dt} =  -\\beta  S \\frac{I}{N^2} $\n",
    "\n",
    "### Infected to Recovered\n",
    "Assuming a constant average time to recovery $1/\\gamma$ (and thus that recovery times follow an exponential distribution):\n",
    "\n",
    "$  \\frac{1}{N} \\; \\frac{dR}{dt} =  -\\gamma \\frac{I}{N}$\n",
    "\n",
    "## Rates of change of S, I, R\n",
    "\n",
    "Using the transition rates between compartments defined above, we write the system of equations for the rates of change (derivatives) of $s(t)$, $i(t)$ and $r(t)$ :\n",
    "\n",
    "\n",
    "\\begin{align}\n",
    "\\frac{d S}{dt} &=  -\\beta   \\frac{S I}{N} \\\\\n",
    "\\frac{d I}{dt} &=  \\beta  \\frac{S I}{N}  \\; - \\;  \\gamma I \\\\\n",
    "\\frac{d R }{dt} &=   \\gamma I \n",
    "\\end{align}\n",
    "\n",
    "###  Case frequencies\n",
    "\n",
    "The sum of rates of rates of change (derivatives) in this model is zero:\n",
    "\n",
    "$\\frac{dS}{dt} \\, + \\,  \\frac{dI}{dt} \\, + \\, \\frac{dR}{dt} \\; = \\;  -\\beta  S \\frac{I}{N} \\, + \\, \\beta  S \\frac{I}{N} \\, - \\,  \\gamma I  \\, + \\,  \\gamma I \\; = \\; 0$\n",
    "\n",
    "That is, the population size $N$ is constant: \n",
    "\n",
    "$S \\, + \\,  I  \\, + \\, R \\; = \\; N$\n",
    "\n",
    "We thus can express the variables in the model as frequencies relative to the population size. Taking \n",
    "\n",
    "$s=S/N, \\,  i=I/N, \\, r=R/N \\; \\implies\\;  s+i+r=1$\n",
    "\n",
    "We have:\n",
    "\n",
    "\\begin{align}\n",
    "\\frac{ds}{dt} &=  -\\beta s  i \\\\\n",
    "\\frac{di}{dt} &=  \\beta s i \\, - \\, \\gamma  i \\\\\n",
    "\\frac{dr}{dt} &=  \\gamma  i \n",
    "\\end{align}"
   ]
  },
  {
   "cell_type": "markdown",
   "metadata": {},
   "source": [
    "## Numerical solution\n",
    "\n",
    "Th code below uses numerical integration of the system of differential equations above to find the values of $s(t)$, $i(t)$ and $r(t)$ over time. "
   ]
  },
  {
   "cell_type": "code",
   "execution_count": null,
   "metadata": {},
   "outputs": [],
   "source": [
    "## Import libraries\n",
    "\n",
    "from ipywidgets import interact, interactive, fixed, interact_manual\n",
    "import math\n",
    "import ipywidgets as widgets\n",
    "%matplotlib inline\n",
    "import numpy as np\n",
    "from matplotlib import pyplot as pt\n",
    "from scipy.integrate import odeint\n",
    "from scipy.special import lambertw\n",
    "\n",
    "## Initial values for s, i, r (0.01% of infected people in the population)\n",
    "x0=np.array([0.9999,0.0001,0]) #s,i,r\n",
    "## Time points for integration\n",
    "t=np.arange(0,40,0.1)\n",
    "\n",
    "## Defines a function that returns the values of the derivatives of s, i,r  for a given time, provided initial values\n",
    "def SIR(x,t,beta,gamma):\n",
    "    return np.array([ -beta*x[0]*x[1],              #ds/dt\n",
    "                       beta*x[0]*x[1]-gamma*x[1],   #di/dt\n",
    "                       gamma*x[1] ])                #dr/dt\n",
    "\n",
    "## Integrates the function above over time and plot the resulting time series\n",
    "def pSIR(beta, gamma):    \n",
    "    x =  odeint(SIR, x0, t, (beta, gamma)) \n",
    "    pt.figure(1)\n",
    "    pt.plot(t, x)\n",
    "    pt.xlabel('t')\n",
    "    pt.ylabel('x=[s,i,r]')\n",
    "    pt.legend(['s', 'i', 'r'], loc='best')\n",
    "    pt.show()"
   ]
  },
  {
   "cell_type": "markdown",
   "metadata": {},
   "source": [
    "Run this command for an interactive plot of the solution:"
   ]
  },
  {
   "cell_type": "code",
   "execution_count": null,
   "metadata": {
    "scrolled": true
   },
   "outputs": [],
   "source": [
    "interact(pSIR, beta = (1.5,3, .1), gamma = (0.5,1, .1));"
   ]
  },
  {
   "cell_type": "markdown",
   "metadata": {},
   "source": [
    "## New cases\n",
    "\n",
    "The frequency of new cases at a discrete time interval (e.g. daily) is the difference between the frequencies of susceptibles  in a day  and in the previous day. This is not the same as the frequency of infected people in a give day check this out:\n",
    "\n"
   ]
  },
  {
   "cell_type": "code",
   "execution_count": null,
   "metadata": {},
   "outputs": [],
   "source": [
    "## New time range: 0 to 20 days\n",
    "t2 = np.arange(0,20,0.1)\n",
    "## Solve the model for beta = 2.5 and gamma = 1\n",
    "x2 =  odeint(SIR, x0, t2,  (2.5, 1) )"
   ]
  },
  {
   "cell_type": "code",
   "execution_count": null,
   "metadata": {},
   "outputs": [],
   "source": [
    "## Array with day 0 to 20\n",
    "days = np.arange(0,20,1)\n",
    "## Pick the frequency of susceptibles at each day\n",
    "Sdaily = x2[np.isin(t2, days),0]\n",
    "## Number of cases: difference of s in succesive days\n",
    "Ncases = Sdaily[:19] - Sdaily[1:]\n",
    "## Plot\n",
    "pt.figure(1)\n",
    "pt.plot(t2, x2[:,1])\n",
    "pt.scatter(days[1:], Ncases)\n",
    "pt.xlabel('t')\n",
    "pt.ylabel('x=[i,cases]')\n",
    "pt.legend([\"i\", \"cases\"], loc='best')\n",
    "pt.show()"
   ]
  },
  {
   "cell_type": "markdown",
   "metadata": {},
   "source": [
    "## Reproduction number\n",
    "\n",
    "The reproduction number $R_t$ is the average number of secondary cases produced by each infected person. The value of $R_t$ changes as the epidemic progress, because it depends on the frequency of susceptibles:\n",
    "\n",
    "$R_t = \\tau \\times \\bar{c} \\times d \\times s(t)$\n",
    "\n",
    "where $\\tau$ is the probablity of infection in each contact between a susceptible and an infected, $\\bar{c}$ is the mean rate of contact, $d$ is the mean duration of the infected condition. In the SIR model, $\\beta = \\tau \\times \\bar{c}$ and $\\gamma = d^{-1}$. Therefore,\n",
    "\n",
    "$R_t =  s(t) \\frac{\\beta}{\\gamma}$\n",
    "\n",
    "and  the frequency of infectious cases increases exponentially when time advances a small amount $\\Delta t$ :\n",
    "\n",
    "$i(t + \\Delta t) \\; = \\; i(t) \\,  e^{(R_t - 1) \\Delta t}$\n",
    "\n",
    "The code below calculates this exponential function at the onset of the epidemics ($t=0$) up to $\\Delta t = 4.5$. You can see that an exponetial growth provides a good approximation of  $i(t)$ in the beggining of the epidemic."
   ]
  },
  {
   "cell_type": "code",
   "execution_count": null,
   "metadata": {},
   "outputs": [],
   "source": [
    "## frequency of suscetibles in t = 0\n",
    "## Initial time\n",
    "ti = 0\n",
    "## s(t) and i(t) at this time\n",
    "si = x2[t2==ti,0:2][0,:]\n",
    "## Vector of initial time + delta\n",
    "ts = np.arange(ti, ti+4.5,0.1)\n",
    "## Function for exponential growth\n",
    "def eg(t, s, i, beta, gamma):\n",
    "    t3 = t-t[0]\n",
    "    Rt = s*beta/gamma\n",
    "    return i*np.exp((Rt-1)*gamma*t3)\n",
    "## Apply the function for t=0 to t=Delta, beta = 2.5, gamma = 1\n",
    "iappr = eg(ts, si[0], si[1], 2.5, 1)\n",
    "## The plot\n",
    "pt.plot(t2, x2[:,1])\n",
    "pt.plot(ts, iappr)\n",
    "pt.xlabel('t')\n",
    "pt.ylabel('x=[i,approx]')\n",
    "pt.legend([\"i(t)\", \"approx.\"], loc='best')\n",
    "pt.show()"
   ]
  },
  {
   "cell_type": "markdown",
   "metadata": {},
   "source": [
    "At this moment, the whole population is susceptible ($s(0)  \\approx 1$) and the value of $R_t$ is called \"Basic reproduction number\", $R_0$. For the SIR model, taking $s(0) = 1$ implies that\n",
    "\n",
    "$R_0 \\; = \\;  \\frac{\\beta}{\\gamma}$"
   ]
  },
  {
   "cell_type": "markdown",
   "metadata": {},
   "source": [
    "## Final size of the epidemic\n",
    "\n",
    "The final size of the epidemic in the SIR model is the limit of the frequency of resistants, given infinite time:\n",
    "\n",
    "$ _{\\lim t\\to\\infty} r(t) \\; = \\; _{\\lim t\\to\\infty} 1 - s(t) \\; = \\;1 + \\frac{W(\\, -R_0 \\, e^{-R_0}\\, )}{R_0}$\n",
    "\n",
    "where $W$ is the main branch of the  [Lambert function](https://docs.scipy.org/doc/scipy/reference/generated/scipy.special.lambertw.html). The important fact here is that the final size of an epidemic is a function only of $R_0$.\n",
    "\n",
    "Of course, the final size of the epidemic in a SIR model can also be approximated with numerical integration as the frequency of resistants when infections vanished, that is, a long time after the onset of the epidemics. The code below calculates this approximation  for a range of values of $R_0$, and compares with the alnalitical solution."
   ]
  },
  {
   "cell_type": "code",
   "execution_count": null,
   "metadata": {},
   "outputs": [],
   "source": [
    "## Empty arrays to store values of R0, and also analytical & approx. final size\n",
    "R0=[]\n",
    "finalS1=[]\n",
    "finalS2=[]\n",
    "\n",
    "## A range of values for beta, to make R0 vary\n",
    "betavar=np.arange(0.1,3,0.06)\n",
    "\n",
    "## Fix gamma \n",
    "gamma = 0.7\n",
    "\n",
    "## Initial values for numerical integration\n",
    "x0=np.array([.9999,.0001,0])\n",
    "\n",
    "## Time range for integration: long enough to reach i(t) ~ 0\n",
    "t = np.arange(0,200, 1)\n",
    "\n",
    "## This loop run the calculations for each value of R0, as beta varies\n",
    "for beta in betavar:\n",
    "    r0 = beta*(1/gamma)\n",
    "    fs = 1 + lambertw(-r0*np.exp(-r0)) / r0\n",
    "    finalS1.append(fs)\n",
    "    R0.append(r0)\n",
    "    y=odeint(SIR,x0,t,(beta, gamma))\n",
    "    finalS2.append(y[-1,2])\n",
    "\n",
    "## The plot\n",
    "pt.figure(1)\n",
    "pt.plot(R0,finalS1,c='y')\n",
    "pt.plot(R0,finalS2,'.')\n",
    "pt.axvline(1,c='k',ls=':')\n",
    "pt.xlabel(\"R0\")\n",
    "pt.ylabel(\"Final size of epidemics\")\n",
    "pt.legend([\"Analytical\",\"Numerical\"],loc=\"best\")\n",
    "pt.show()"
   ]
  }
 ],
 "metadata": {
  "colab": {
   "provenance": [],
   "toc_visible": true
  },
  "kernelspec": {
   "display_name": "Python 3 (ipykernel)",
   "language": "python",
   "name": "python3"
  },
  "language_info": {
   "codemirror_mode": {
    "name": "ipython",
    "version": 3
   },
   "file_extension": ".py",
   "mimetype": "text/x-python",
   "name": "python",
   "nbconvert_exporter": "python",
   "pygments_lexer": "ipython3",
   "version": "3.11.3"
  }
 },
 "nbformat": 4,
 "nbformat_minor": 4
}
